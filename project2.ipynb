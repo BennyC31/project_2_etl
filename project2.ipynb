{
 "cells": [
  {
   "cell_type": "markdown",
   "id": "5f5f05d2-4966-4410-988b-fab7be84fb96",
   "metadata": {},
   "source": [
    "# Project 2 - ETL\n",
    "## American Professional Football Database\n",
    "The database contains games stats and betting line information from 2010 - 2019.  Sports gambling has exploded over the past few years.  The purpose of this database is to keep track of football game and betting results.  This may evenutally lead to tracking future trends in the sports gambling arena.\n",
    "## Data Sources\n",
    "* NFL Games Stats\n",
    "    \n",
    "    https://www.kaggle.com/datasets/423c766b86dcb18c859cfd3a4d61e6531df8c488b59839931061fc9b3820c068\n",
    "* NFL scores and betting data\n",
    "    \n",
    "    https://www.kaggle.com/datasets/tobycrabtree/nfl-scores-and-betting-data?select=spreadspoke_scores.csv\n",
    "\n",
    "## Production Database\n",
    "The data will be loaded into a postgres relational database."
   ]
  },
  {
   "cell_type": "code",
   "execution_count": 1,
   "id": "5bda5098-6f51-4fee-8a6f-50fd5b285b60",
   "metadata": {},
   "outputs": [],
   "source": [
    "# import dependencies\n",
    "import pandas as pd\n",
    "import numpy as np"
   ]
  },
  {
   "cell_type": "markdown",
   "id": "4d1bad9b-df85-42b8-97ee-d96b61afb32d",
   "metadata": {},
   "source": [
    "## Games Stats Data"
   ]
  },
  {
   "cell_type": "markdown",
   "id": "ef4344f3-e87a-4f20-bef8-e2d6d6779e33",
   "metadata": {},
   "source": [
    "## Extract Data\n",
    "* read_stats - reads game stats and returns a data frame\n",
    "* clean_columns - extracts the columns from each data frame used for the database and renames the columns"
   ]
  },
  {
   "cell_type": "code",
   "execution_count": 2,
   "id": "cc1019c2-e08f-47e2-a8aa-f43580132f3e",
   "metadata": {},
   "outputs": [],
   "source": [
    "def read_stats(file_name):\n",
    "    football_df = pd.read_csv(file_name)\n",
    "    return football_df"
   ]
  },
  {
   "cell_type": "code",
   "execution_count": 3,
   "id": "cd303d02-f748-4ec3-9107-280220772b5a",
   "metadata": {},
   "outputs": [],
   "source": [
    "def clean_columns(df):\n",
    "    new_df = df[['Week','HomeTeam','AwayTeam','H-Score','A-Score']].sort_values('Week')\n",
    "    r_df = new_df.rename(columns={'Week':'week','HomeTeam':'hometeam','AwayTeam':'awayteam','H-Score':'homescore','A-Score':'awayscore'})\n",
    "    return r_df"
   ]
  },
  {
   "cell_type": "markdown",
   "id": "fc7454bb-6942-4be5-9fe2-1f52dea1350e",
   "metadata": {},
   "source": [
    "## Transform and Clean for Loading\n",
    "* create list of years. List corresponds to the csv data sources downloaded from Kaggle.\n",
    "* iterate list, calls clean_columns, inserts *'year'* column and appends to lst_dfs.\n",
    "* call pandas concat to create one data frame.\n",
    "* transform year column to int64 and let pandas determine the data types for each column.\n",
    "* drop index and save to final csv file without the pandas index column.\n",
    "\n",
    "**Note**: each game stats file is saved individually (clean_game_stats_yyyy.csv) for debugging, if necessary."
   ]
  },
  {
   "cell_type": "code",
   "execution_count": 4,
   "id": "c206b79d-ff7f-4281-b302-12e01d3d5c8e",
   "metadata": {},
   "outputs": [],
   "source": [
    "years = ['2010','2011','2012','2013','2014','2015','2016','2017','2018','2019']\n",
    "lst_dfs = []\n",
    "for year in years:\n",
    "    football_df = read_stats(f\"game_stats_{year}.csv\")\n",
    "    new_df = clean_columns(football_df)\n",
    "    new_df.insert(0,'year',year)\n",
    "    lst_dfs.append(new_df)\n",
    "    new_df.to_csv(f'./support_data/clean_game_stat_{year}.csv')\n",
    "ret_df = pd.concat(lst_dfs)\n",
    "ret_df = ret_df.astype({'year': 'int64'})\n",
    "ret_df = ret_df.convert_dtypes()\n",
    "ret_df = ret_df.reset_index(drop=True)\n",
    "ret_df.to_csv('clean_game_stats_2010_2019.csv',index=False)"
   ]
  },
  {
   "cell_type": "markdown",
   "id": "739c5d6e-f6b5-45b0-918b-2437de7dfa11",
   "metadata": {},
   "source": [
    "## Confirm data types are correct."
   ]
  },
  {
   "cell_type": "code",
   "execution_count": 5,
   "id": "56624eab-9fdd-4e84-9229-02907f88393d",
   "metadata": {},
   "outputs": [
    {
     "data": {
      "text/plain": [
       "year          Int64\n",
       "week          Int64\n",
       "hometeam     string\n",
       "awayteam     string\n",
       "homescore     Int64\n",
       "awayscore     Int64\n",
       "dtype: object"
      ]
     },
     "execution_count": 5,
     "metadata": {},
     "output_type": "execute_result"
    }
   ],
   "source": [
    "ret_df.dtypes"
   ]
  },
  {
   "cell_type": "markdown",
   "id": "c5897f73-7802-432b-bce7-dd0f080b0446",
   "metadata": {},
   "source": [
    "## Scores and Betting Data\n",
    "Data file contains information from 1966 - 2022.  A subset of this data (2010 - 2019) will be used for this database.\n",
    "Since this is only one data file no methods were created. The data will be extracted and transformed in the below steps.\n",
    "* Step 1 - Read data from csv into initial dataframe."
   ]
  },
  {
   "cell_type": "code",
   "execution_count": 6,
   "id": "549a4558-bf52-4134-9ded-464bc50e1671",
   "metadata": {},
   "outputs": [],
   "source": [
    "spreads = pd.read_csv('spreadspoke_scores.csv')"
   ]
  },
  {
   "cell_type": "markdown",
   "id": "aa2ce8bc-661b-403b-9c9f-e9bf00536bfd",
   "metadata": {},
   "source": [
    "* Step 2 - Create subset (2010 - 2019)"
   ]
  },
  {
   "cell_type": "code",
   "execution_count": 7,
   "id": "ab82316a-1a5d-45ab-8be1-6b4d67759a2a",
   "metadata": {},
   "outputs": [],
   "source": [
    "spread_2010_2019_df = spreads[(spreads['schedule_season']>2009) & (spreads['schedule_season']<2020) & (spreads['schedule_playoff'] == False)]"
   ]
  },
  {
   "cell_type": "markdown",
   "id": "c30442f9-b0e6-4713-977a-f58378282ea0",
   "metadata": {},
   "source": [
    "* Step 3 - Extract the columns to be used for the database and rename the columns for consistency."
   ]
  },
  {
   "cell_type": "code",
   "execution_count": 8,
   "id": "d64138d9-b0c4-4335-bee3-c939f15e2d07",
   "metadata": {},
   "outputs": [],
   "source": [
    "new_2010_2019_df = spread_2010_2019_df[['schedule_season','schedule_week','team_home','team_away','team_favorite_id','spread_favorite','over_under_line']]"
   ]
  },
  {
   "cell_type": "code",
   "execution_count": 9,
   "id": "da130eb4-b21a-4928-a662-c15e66505135",
   "metadata": {},
   "outputs": [
    {
     "data": {
      "text/html": [
       "<div>\n",
       "<style scoped>\n",
       "    .dataframe tbody tr th:only-of-type {\n",
       "        vertical-align: middle;\n",
       "    }\n",
       "\n",
       "    .dataframe tbody tr th {\n",
       "        vertical-align: top;\n",
       "    }\n",
       "\n",
       "    .dataframe thead th {\n",
       "        text-align: right;\n",
       "    }\n",
       "</style>\n",
       "<table border=\"1\" class=\"dataframe\">\n",
       "  <thead>\n",
       "    <tr style=\"text-align: right;\">\n",
       "      <th></th>\n",
       "      <th>year</th>\n",
       "      <th>week</th>\n",
       "      <th>hometeam</th>\n",
       "      <th>awayteam</th>\n",
       "      <th>teamfavid</th>\n",
       "      <th>pointspread</th>\n",
       "      <th>outotal</th>\n",
       "    </tr>\n",
       "  </thead>\n",
       "  <tbody>\n",
       "    <tr>\n",
       "      <th>10008</th>\n",
       "      <td>2010</td>\n",
       "      <td>1</td>\n",
       "      <td>New Orleans Saints</td>\n",
       "      <td>Minnesota Vikings</td>\n",
       "      <td>NO</td>\n",
       "      <td>-5.0</td>\n",
       "      <td>49.5</td>\n",
       "    </tr>\n",
       "    <tr>\n",
       "      <th>10009</th>\n",
       "      <td>2010</td>\n",
       "      <td>1</td>\n",
       "      <td>Buffalo Bills</td>\n",
       "      <td>Miami Dolphins</td>\n",
       "      <td>MIA</td>\n",
       "      <td>-3.0</td>\n",
       "      <td>39</td>\n",
       "    </tr>\n",
       "    <tr>\n",
       "      <th>10010</th>\n",
       "      <td>2010</td>\n",
       "      <td>1</td>\n",
       "      <td>Chicago Bears</td>\n",
       "      <td>Detroit Lions</td>\n",
       "      <td>CHI</td>\n",
       "      <td>-6.5</td>\n",
       "      <td>45</td>\n",
       "    </tr>\n",
       "    <tr>\n",
       "      <th>10011</th>\n",
       "      <td>2010</td>\n",
       "      <td>1</td>\n",
       "      <td>Houston Texans</td>\n",
       "      <td>Indianapolis Colts</td>\n",
       "      <td>IND</td>\n",
       "      <td>-1.0</td>\n",
       "      <td>48</td>\n",
       "    </tr>\n",
       "    <tr>\n",
       "      <th>10012</th>\n",
       "      <td>2010</td>\n",
       "      <td>1</td>\n",
       "      <td>Jacksonville Jaguars</td>\n",
       "      <td>Denver Broncos</td>\n",
       "      <td>JAX</td>\n",
       "      <td>-3.0</td>\n",
       "      <td>41.5</td>\n",
       "    </tr>\n",
       "    <tr>\n",
       "      <th>...</th>\n",
       "      <td>...</td>\n",
       "      <td>...</td>\n",
       "      <td>...</td>\n",
       "      <td>...</td>\n",
       "      <td>...</td>\n",
       "      <td>...</td>\n",
       "      <td>...</td>\n",
       "    </tr>\n",
       "    <tr>\n",
       "      <th>12662</th>\n",
       "      <td>2019</td>\n",
       "      <td>17</td>\n",
       "      <td>Minnesota Vikings</td>\n",
       "      <td>Chicago Bears</td>\n",
       "      <td>CHI</td>\n",
       "      <td>-4.5</td>\n",
       "      <td>36</td>\n",
       "    </tr>\n",
       "    <tr>\n",
       "      <th>12663</th>\n",
       "      <td>2019</td>\n",
       "      <td>17</td>\n",
       "      <td>New England Patriots</td>\n",
       "      <td>Miami Dolphins</td>\n",
       "      <td>NE</td>\n",
       "      <td>-17.0</td>\n",
       "      <td>45.5</td>\n",
       "    </tr>\n",
       "    <tr>\n",
       "      <th>12664</th>\n",
       "      <td>2019</td>\n",
       "      <td>17</td>\n",
       "      <td>New York Giants</td>\n",
       "      <td>Philadelphia Eagles</td>\n",
       "      <td>PHI</td>\n",
       "      <td>-3.5</td>\n",
       "      <td>44.5</td>\n",
       "    </tr>\n",
       "    <tr>\n",
       "      <th>12665</th>\n",
       "      <td>2019</td>\n",
       "      <td>17</td>\n",
       "      <td>Seattle Seahawks</td>\n",
       "      <td>San Francisco 49ers</td>\n",
       "      <td>SF</td>\n",
       "      <td>-3.5</td>\n",
       "      <td>47</td>\n",
       "    </tr>\n",
       "    <tr>\n",
       "      <th>12666</th>\n",
       "      <td>2019</td>\n",
       "      <td>17</td>\n",
       "      <td>Tampa Bay Buccaneers</td>\n",
       "      <td>Atlanta Falcons</td>\n",
       "      <td>TB</td>\n",
       "      <td>-1.0</td>\n",
       "      <td>48.5</td>\n",
       "    </tr>\n",
       "  </tbody>\n",
       "</table>\n",
       "<p>2560 rows × 7 columns</p>\n",
       "</div>"
      ],
      "text/plain": [
       "       year week              hometeam             awayteam teamfavid  \\\n",
       "10008  2010    1    New Orleans Saints    Minnesota Vikings        NO   \n",
       "10009  2010    1         Buffalo Bills       Miami Dolphins       MIA   \n",
       "10010  2010    1         Chicago Bears        Detroit Lions       CHI   \n",
       "10011  2010    1        Houston Texans   Indianapolis Colts       IND   \n",
       "10012  2010    1  Jacksonville Jaguars       Denver Broncos       JAX   \n",
       "...     ...  ...                   ...                  ...       ...   \n",
       "12662  2019   17     Minnesota Vikings        Chicago Bears       CHI   \n",
       "12663  2019   17  New England Patriots       Miami Dolphins        NE   \n",
       "12664  2019   17       New York Giants  Philadelphia Eagles       PHI   \n",
       "12665  2019   17      Seattle Seahawks  San Francisco 49ers        SF   \n",
       "12666  2019   17  Tampa Bay Buccaneers      Atlanta Falcons        TB   \n",
       "\n",
       "       pointspread outotal  \n",
       "10008         -5.0    49.5  \n",
       "10009         -3.0      39  \n",
       "10010         -6.5      45  \n",
       "10011         -1.0      48  \n",
       "10012         -3.0    41.5  \n",
       "...            ...     ...  \n",
       "12662         -4.5      36  \n",
       "12663        -17.0    45.5  \n",
       "12664         -3.5    44.5  \n",
       "12665         -3.5      47  \n",
       "12666         -1.0    48.5  \n",
       "\n",
       "[2560 rows x 7 columns]"
      ]
     },
     "execution_count": 9,
     "metadata": {},
     "output_type": "execute_result"
    }
   ],
   "source": [
    "new_sprd_df = new_2010_2019_df.rename(columns={'schedule_season':'year','schedule_week':'week','team_home':'hometeam','team_away':'awayteam',\n",
    "                              'team_favorite_id':'teamfavid','spread_favorite':'pointspread','over_under_line':'outotal'})\n",
    "new_sprd_df"
   ]
  },
  {
   "cell_type": "markdown",
   "id": "60b5d3f5-09b5-4337-a5bd-904fc0db984b",
   "metadata": {},
   "source": [
    "* Step 4 - Add two columns used to join the two data sets."
   ]
  },
  {
   "cell_type": "code",
   "execution_count": 10,
   "id": "e9bf25c5-e266-40e9-81b4-d97aa976604c",
   "metadata": {},
   "outputs": [],
   "source": [
    "new_sprd_df.insert(3, 'teamhomeid', 'team_home')\n",
    "new_sprd_df.insert(5, 'teamawayid', 'team_away')"
   ]
  },
  {
   "cell_type": "markdown",
   "id": "3c23881c-dd6c-425d-ba11-575270b0ceef",
   "metadata": {},
   "source": [
    "* Step 5 - Extract the unique team abbreviations from the game stats database and the unique teams from spread database."
   ]
  },
  {
   "cell_type": "code",
   "execution_count": 11,
   "id": "e256fb8d-825e-4f1b-bec4-42d7544a88ab",
   "metadata": {},
   "outputs": [
    {
     "data": {
      "text/plain": [
       "array(['ARI', 'ATL', 'BAL', 'BUF', 'CAR', 'CHI', 'CIN', 'CLE', 'DAL',\n",
       "       'DEN', 'DET', 'GNB', 'HOU', 'IND', 'JAX', 'KAN', 'LAC', 'LAR',\n",
       "       'MIA', 'MIN', 'NOR', 'NWE', 'NYG', 'NYJ', 'OAK', 'PHI', 'PIT',\n",
       "       'SDG', 'SEA', 'SFO', 'STL', 'TAM', 'TEN', 'WAS'], dtype=object)"
      ]
     },
     "execution_count": 11,
     "metadata": {},
     "output_type": "execute_result"
    }
   ],
   "source": [
    "teams_abbr = np.unique(ret_df[['hometeam']].values)\n",
    "teams_abbr"
   ]
  },
  {
   "cell_type": "code",
   "execution_count": 12,
   "id": "05fc9e71-3305-4de1-9fe6-ad6c83e8f3e4",
   "metadata": {},
   "outputs": [
    {
     "data": {
      "text/plain": [
       "array(['Arizona Cardinals', 'Atlanta Falcons', 'Baltimore Ravens',\n",
       "       'Buffalo Bills', 'Carolina Panthers', 'Chicago Bears',\n",
       "       'Cincinnati Bengals', 'Cleveland Browns', 'Dallas Cowboys',\n",
       "       'Denver Broncos', 'Detroit Lions', 'Green Bay Packers',\n",
       "       'Houston Texans', 'Indianapolis Colts', 'Jacksonville Jaguars',\n",
       "       'Kansas City Chiefs', 'Los Angeles Chargers', 'Los Angeles Rams',\n",
       "       'Miami Dolphins', 'Minnesota Vikings', 'New England Patriots',\n",
       "       'New Orleans Saints', 'New York Giants', 'New York Jets',\n",
       "       'Oakland Raiders', 'Philadelphia Eagles', 'Pittsburgh Steelers',\n",
       "       'San Diego Chargers', 'San Francisco 49ers', 'Seattle Seahawks',\n",
       "       'St. Louis Rams', 'Tampa Bay Buccaneers', 'Tennessee Titans',\n",
       "       'Washington Redskins'], dtype=object)"
      ]
     },
     "execution_count": 12,
     "metadata": {},
     "output_type": "execute_result"
    }
   ],
   "source": [
    "sprd_teams = np.unique(new_sprd_df[['hometeam']].values)\n",
    "sprd_teams"
   ]
  },
  {
   "cell_type": "markdown",
   "id": "8b1969ea-7ee1-4314-bd60-81fd14a0e65c",
   "metadata": {},
   "source": [
    "* Step 6 - Create a dictionary using the unique team names/abbreviations from the two data sets."
   ]
  },
  {
   "cell_type": "code",
   "execution_count": 13,
   "id": "46d949d7-4552-487d-b800-2b8c7533ad99",
   "metadata": {},
   "outputs": [
    {
     "data": {
      "text/plain": [
       "{'Arizona Cardinals': 'ARI',\n",
       " 'Atlanta Falcons': 'ATL',\n",
       " 'Baltimore Ravens': 'BAL',\n",
       " 'Buffalo Bills': 'BUF',\n",
       " 'Carolina Panthers': 'CAR',\n",
       " 'Chicago Bears': 'CHI',\n",
       " 'Cincinnati Bengals': 'CIN',\n",
       " 'Cleveland Browns': 'CLE',\n",
       " 'Dallas Cowboys': 'DAL',\n",
       " 'Denver Broncos': 'DEN',\n",
       " 'Detroit Lions': 'DET',\n",
       " 'Green Bay Packers': 'GNB',\n",
       " 'Houston Texans': 'HOU',\n",
       " 'Indianapolis Colts': 'IND',\n",
       " 'Jacksonville Jaguars': 'JAX',\n",
       " 'Kansas City Chiefs': 'KAN',\n",
       " 'Los Angeles Chargers': 'LAC',\n",
       " 'Los Angeles Rams': 'LAR',\n",
       " 'Miami Dolphins': 'MIA',\n",
       " 'Minnesota Vikings': 'MIN',\n",
       " 'New England Patriots': 'NWE',\n",
       " 'New Orleans Saints': 'NOR',\n",
       " 'New York Giants': 'NYG',\n",
       " 'New York Jets': 'NYJ',\n",
       " 'Oakland Raiders': 'OAK',\n",
       " 'Philadelphia Eagles': 'PHI',\n",
       " 'Pittsburgh Steelers': 'PIT',\n",
       " 'San Diego Chargers': 'SDG',\n",
       " 'San Francisco 49ers': 'SFO',\n",
       " 'Seattle Seahawks': 'SEA',\n",
       " 'St. Louis Rams': 'STL',\n",
       " 'Tampa Bay Buccaneers': 'TAM',\n",
       " 'Tennessee Titans': 'TEN',\n",
       " 'Washington Redskins': 'WAS'}"
      ]
     },
     "execution_count": 13,
     "metadata": {},
     "output_type": "execute_result"
    }
   ],
   "source": [
    "team_array = ['Arizona Cardinals', 'Atlanta Falcons', 'Baltimore Ravens',\n",
    "       'Buffalo Bills', 'Carolina Panthers', 'Chicago Bears',\n",
    "       'Cincinnati Bengals', 'Cleveland Browns', 'Dallas Cowboys',\n",
    "       'Denver Broncos', 'Detroit Lions', 'Green Bay Packers',\n",
    "       'Houston Texans', 'Indianapolis Colts', 'Jacksonville Jaguars',\n",
    "       'Kansas City Chiefs', 'Los Angeles Chargers', 'Los Angeles Rams',\n",
    "       'Miami Dolphins', 'Minnesota Vikings', 'New England Patriots',\n",
    "       'New Orleans Saints', 'New York Giants', 'New York Jets',\n",
    "       'Oakland Raiders', 'Philadelphia Eagles', 'Pittsburgh Steelers',\n",
    "       'San Diego Chargers', 'San Francisco 49ers', 'Seattle Seahawks',\n",
    "       'St. Louis Rams', 'Tampa Bay Buccaneers', 'Tennessee Titans',\n",
    "       'Washington Redskins']\n",
    "team_ids = ['ARI', 'ATL', 'BAL', 'BUF', 'CAR', 'CHI', 'CIN', 'CLE', 'DAL',\n",
    "       'DEN', 'DET', 'GNB', 'HOU', 'IND', 'JAX', 'KAN', 'LAC', 'LAR',\n",
    "       'MIA', 'MIN', 'NWE', 'NOR',  'NYG', 'NYJ', 'OAK', 'PHI', 'PIT',\n",
    "       'SDG','SFO','SEA', 'STL','TAM', 'TEN', 'WAS']\n",
    "len(team_ids)\n",
    "team_dict = dict(zip(team_array, team_ids))\n",
    "team_dict"
   ]
  },
  {
   "cell_type": "markdown",
   "id": "f23346f5-af3c-4851-b067-a47c2c26a584",
   "metadata": {},
   "source": [
    "* Step 7 - Create a copy of the spread df."
   ]
  },
  {
   "cell_type": "code",
   "execution_count": 14,
   "id": "4af84b00-066f-4b4c-9cc1-cfa8c222a096",
   "metadata": {},
   "outputs": [],
   "source": [
    "upd_team_id = new_sprd_df.copy()"
   ]
  },
  {
   "cell_type": "markdown",
   "id": "100f9b87-0e91-41db-9b44-ac1bc30148f2",
   "metadata": {},
   "source": [
    "* Step 8 - Iterate the team_dict and update the two inserted columns with the team abbreviations."
   ]
  },
  {
   "cell_type": "code",
   "execution_count": 15,
   "id": "c6a1282c-b371-4a39-ba2c-31c6cb9b12ba",
   "metadata": {},
   "outputs": [],
   "source": [
    "for x, y in team_dict.items():\n",
    "    upd_team_id.loc[upd_team_id['hometeam'] == x,'teamhomeid'] = y\n",
    "    upd_team_id.loc[upd_team_id['awayteam'] == x,'teamawayid'] = y"
   ]
  },
  {
   "cell_type": "markdown",
   "id": "20eb4c41-0a7f-4355-8e8e-0173046b0c89",
   "metadata": {},
   "source": [
    "* Step 8 - Update two columns to the correct data type."
   ]
  },
  {
   "cell_type": "code",
   "execution_count": 16,
   "id": "9a1c8a00-06df-4695-86c4-d5591ebfb603",
   "metadata": {},
   "outputs": [
    {
     "data": {
      "text/html": [
       "<div>\n",
       "<style scoped>\n",
       "    .dataframe tbody tr th:only-of-type {\n",
       "        vertical-align: middle;\n",
       "    }\n",
       "\n",
       "    .dataframe tbody tr th {\n",
       "        vertical-align: top;\n",
       "    }\n",
       "\n",
       "    .dataframe thead th {\n",
       "        text-align: right;\n",
       "    }\n",
       "</style>\n",
       "<table border=\"1\" class=\"dataframe\">\n",
       "  <thead>\n",
       "    <tr style=\"text-align: right;\">\n",
       "      <th></th>\n",
       "      <th>year</th>\n",
       "      <th>week</th>\n",
       "      <th>hometeam</th>\n",
       "      <th>teamhomeid</th>\n",
       "      <th>awayteam</th>\n",
       "      <th>teamawayid</th>\n",
       "      <th>teamfavid</th>\n",
       "      <th>pointspread</th>\n",
       "      <th>outotal</th>\n",
       "    </tr>\n",
       "  </thead>\n",
       "  <tbody>\n",
       "    <tr>\n",
       "      <th>10008</th>\n",
       "      <td>2010</td>\n",
       "      <td>1</td>\n",
       "      <td>New Orleans Saints</td>\n",
       "      <td>NOR</td>\n",
       "      <td>Minnesota Vikings</td>\n",
       "      <td>MIN</td>\n",
       "      <td>NO</td>\n",
       "      <td>-5.0</td>\n",
       "      <td>49.5</td>\n",
       "    </tr>\n",
       "    <tr>\n",
       "      <th>10009</th>\n",
       "      <td>2010</td>\n",
       "      <td>1</td>\n",
       "      <td>Buffalo Bills</td>\n",
       "      <td>BUF</td>\n",
       "      <td>Miami Dolphins</td>\n",
       "      <td>MIA</td>\n",
       "      <td>MIA</td>\n",
       "      <td>-3.0</td>\n",
       "      <td>39.0</td>\n",
       "    </tr>\n",
       "    <tr>\n",
       "      <th>10010</th>\n",
       "      <td>2010</td>\n",
       "      <td>1</td>\n",
       "      <td>Chicago Bears</td>\n",
       "      <td>CHI</td>\n",
       "      <td>Detroit Lions</td>\n",
       "      <td>DET</td>\n",
       "      <td>CHI</td>\n",
       "      <td>-6.5</td>\n",
       "      <td>45.0</td>\n",
       "    </tr>\n",
       "    <tr>\n",
       "      <th>10011</th>\n",
       "      <td>2010</td>\n",
       "      <td>1</td>\n",
       "      <td>Houston Texans</td>\n",
       "      <td>HOU</td>\n",
       "      <td>Indianapolis Colts</td>\n",
       "      <td>IND</td>\n",
       "      <td>IND</td>\n",
       "      <td>-1.0</td>\n",
       "      <td>48.0</td>\n",
       "    </tr>\n",
       "    <tr>\n",
       "      <th>10012</th>\n",
       "      <td>2010</td>\n",
       "      <td>1</td>\n",
       "      <td>Jacksonville Jaguars</td>\n",
       "      <td>JAX</td>\n",
       "      <td>Denver Broncos</td>\n",
       "      <td>DEN</td>\n",
       "      <td>JAX</td>\n",
       "      <td>-3.0</td>\n",
       "      <td>41.5</td>\n",
       "    </tr>\n",
       "    <tr>\n",
       "      <th>...</th>\n",
       "      <td>...</td>\n",
       "      <td>...</td>\n",
       "      <td>...</td>\n",
       "      <td>...</td>\n",
       "      <td>...</td>\n",
       "      <td>...</td>\n",
       "      <td>...</td>\n",
       "      <td>...</td>\n",
       "      <td>...</td>\n",
       "    </tr>\n",
       "    <tr>\n",
       "      <th>12662</th>\n",
       "      <td>2019</td>\n",
       "      <td>17</td>\n",
       "      <td>Minnesota Vikings</td>\n",
       "      <td>MIN</td>\n",
       "      <td>Chicago Bears</td>\n",
       "      <td>CHI</td>\n",
       "      <td>CHI</td>\n",
       "      <td>-4.5</td>\n",
       "      <td>36.0</td>\n",
       "    </tr>\n",
       "    <tr>\n",
       "      <th>12663</th>\n",
       "      <td>2019</td>\n",
       "      <td>17</td>\n",
       "      <td>New England Patriots</td>\n",
       "      <td>NWE</td>\n",
       "      <td>Miami Dolphins</td>\n",
       "      <td>MIA</td>\n",
       "      <td>NE</td>\n",
       "      <td>-17.0</td>\n",
       "      <td>45.5</td>\n",
       "    </tr>\n",
       "    <tr>\n",
       "      <th>12664</th>\n",
       "      <td>2019</td>\n",
       "      <td>17</td>\n",
       "      <td>New York Giants</td>\n",
       "      <td>NYG</td>\n",
       "      <td>Philadelphia Eagles</td>\n",
       "      <td>PHI</td>\n",
       "      <td>PHI</td>\n",
       "      <td>-3.5</td>\n",
       "      <td>44.5</td>\n",
       "    </tr>\n",
       "    <tr>\n",
       "      <th>12665</th>\n",
       "      <td>2019</td>\n",
       "      <td>17</td>\n",
       "      <td>Seattle Seahawks</td>\n",
       "      <td>SEA</td>\n",
       "      <td>San Francisco 49ers</td>\n",
       "      <td>SFO</td>\n",
       "      <td>SF</td>\n",
       "      <td>-3.5</td>\n",
       "      <td>47.0</td>\n",
       "    </tr>\n",
       "    <tr>\n",
       "      <th>12666</th>\n",
       "      <td>2019</td>\n",
       "      <td>17</td>\n",
       "      <td>Tampa Bay Buccaneers</td>\n",
       "      <td>TAM</td>\n",
       "      <td>Atlanta Falcons</td>\n",
       "      <td>ATL</td>\n",
       "      <td>TB</td>\n",
       "      <td>-1.0</td>\n",
       "      <td>48.5</td>\n",
       "    </tr>\n",
       "  </tbody>\n",
       "</table>\n",
       "<p>2560 rows × 9 columns</p>\n",
       "</div>"
      ],
      "text/plain": [
       "       year  week              hometeam teamhomeid             awayteam  \\\n",
       "10008  2010     1    New Orleans Saints        NOR    Minnesota Vikings   \n",
       "10009  2010     1         Buffalo Bills        BUF       Miami Dolphins   \n",
       "10010  2010     1         Chicago Bears        CHI        Detroit Lions   \n",
       "10011  2010     1        Houston Texans        HOU   Indianapolis Colts   \n",
       "10012  2010     1  Jacksonville Jaguars        JAX       Denver Broncos   \n",
       "...     ...   ...                   ...        ...                  ...   \n",
       "12662  2019    17     Minnesota Vikings        MIN        Chicago Bears   \n",
       "12663  2019    17  New England Patriots        NWE       Miami Dolphins   \n",
       "12664  2019    17       New York Giants        NYG  Philadelphia Eagles   \n",
       "12665  2019    17      Seattle Seahawks        SEA  San Francisco 49ers   \n",
       "12666  2019    17  Tampa Bay Buccaneers        TAM      Atlanta Falcons   \n",
       "\n",
       "      teamawayid teamfavid  pointspread  outotal  \n",
       "10008        MIN        NO         -5.0     49.5  \n",
       "10009        MIA       MIA         -3.0     39.0  \n",
       "10010        DET       CHI         -6.5     45.0  \n",
       "10011        IND       IND         -1.0     48.0  \n",
       "10012        DEN       JAX         -3.0     41.5  \n",
       "...          ...       ...          ...      ...  \n",
       "12662        CHI       CHI         -4.5     36.0  \n",
       "12663        MIA        NE        -17.0     45.5  \n",
       "12664        PHI       PHI         -3.5     44.5  \n",
       "12665        SFO        SF         -3.5     47.0  \n",
       "12666        ATL        TB         -1.0     48.5  \n",
       "\n",
       "[2560 rows x 9 columns]"
      ]
     },
     "execution_count": 16,
     "metadata": {},
     "output_type": "execute_result"
    }
   ],
   "source": [
    "upd_team_id = upd_team_id.astype({'outotal': 'float64', 'week': 'int64'})\n",
    "upd_team_id"
   ]
  },
  {
   "cell_type": "markdown",
   "id": "151c0cbb-ff30-4bb6-8ebb-77020de7ef3e",
   "metadata": {},
   "source": [
    "## Confirm data types are correct."
   ]
  },
  {
   "cell_type": "code",
   "execution_count": 17,
   "id": "8e92399e-e954-409d-b3ad-67fc1f3d2596",
   "metadata": {},
   "outputs": [
    {
     "data": {
      "text/plain": [
       "year             Int64\n",
       "week             Int64\n",
       "hometeam        string\n",
       "teamhomeid      string\n",
       "awayteam        string\n",
       "teamawayid      string\n",
       "teamfavid       string\n",
       "pointspread    float64\n",
       "outotal        float64\n",
       "dtype: object"
      ]
     },
     "execution_count": 17,
     "metadata": {},
     "output_type": "execute_result"
    }
   ],
   "source": [
    "upd_team_id = upd_team_id.convert_dtypes()\n",
    "upd_team_id.dtypes"
   ]
  },
  {
   "cell_type": "markdown",
   "id": "5fe74888-3624-4be9-b9dc-36d263467679",
   "metadata": {},
   "source": [
    "* Step 9 - Perform manual operations to clean the final data."
   ]
  },
  {
   "cell_type": "code",
   "execution_count": 18,
   "id": "d8b2f402-83a6-4e34-b85e-a46d6d8cd8ad",
   "metadata": {},
   "outputs": [
    {
     "data": {
      "text/html": [
       "<div>\n",
       "<style scoped>\n",
       "    .dataframe tbody tr th:only-of-type {\n",
       "        vertical-align: middle;\n",
       "    }\n",
       "\n",
       "    .dataframe tbody tr th {\n",
       "        vertical-align: top;\n",
       "    }\n",
       "\n",
       "    .dataframe thead th {\n",
       "        text-align: right;\n",
       "    }\n",
       "</style>\n",
       "<table border=\"1\" class=\"dataframe\">\n",
       "  <thead>\n",
       "    <tr style=\"text-align: right;\">\n",
       "      <th></th>\n",
       "      <th>year</th>\n",
       "      <th>week</th>\n",
       "      <th>hometeam</th>\n",
       "      <th>teamhomeid</th>\n",
       "      <th>awayteam</th>\n",
       "      <th>teamawayid</th>\n",
       "      <th>teamfavid</th>\n",
       "      <th>pointspread</th>\n",
       "      <th>outotal</th>\n",
       "    </tr>\n",
       "  </thead>\n",
       "  <tbody>\n",
       "    <tr>\n",
       "      <th>0</th>\n",
       "      <td>2010</td>\n",
       "      <td>1</td>\n",
       "      <td>New Orleans Saints</td>\n",
       "      <td>NOR</td>\n",
       "      <td>Minnesota Vikings</td>\n",
       "      <td>MIN</td>\n",
       "      <td>NO</td>\n",
       "      <td>-5.0</td>\n",
       "      <td>49.5</td>\n",
       "    </tr>\n",
       "    <tr>\n",
       "      <th>1</th>\n",
       "      <td>2010</td>\n",
       "      <td>1</td>\n",
       "      <td>Buffalo Bills</td>\n",
       "      <td>BUF</td>\n",
       "      <td>Miami Dolphins</td>\n",
       "      <td>MIA</td>\n",
       "      <td>MIA</td>\n",
       "      <td>-3.0</td>\n",
       "      <td>39.0</td>\n",
       "    </tr>\n",
       "    <tr>\n",
       "      <th>2</th>\n",
       "      <td>2010</td>\n",
       "      <td>1</td>\n",
       "      <td>Chicago Bears</td>\n",
       "      <td>CHI</td>\n",
       "      <td>Detroit Lions</td>\n",
       "      <td>DET</td>\n",
       "      <td>CHI</td>\n",
       "      <td>-6.5</td>\n",
       "      <td>45.0</td>\n",
       "    </tr>\n",
       "    <tr>\n",
       "      <th>3</th>\n",
       "      <td>2010</td>\n",
       "      <td>1</td>\n",
       "      <td>Houston Texans</td>\n",
       "      <td>HOU</td>\n",
       "      <td>Indianapolis Colts</td>\n",
       "      <td>IND</td>\n",
       "      <td>IND</td>\n",
       "      <td>-1.0</td>\n",
       "      <td>48.0</td>\n",
       "    </tr>\n",
       "    <tr>\n",
       "      <th>4</th>\n",
       "      <td>2010</td>\n",
       "      <td>1</td>\n",
       "      <td>Jacksonville Jaguars</td>\n",
       "      <td>JAX</td>\n",
       "      <td>Denver Broncos</td>\n",
       "      <td>DEN</td>\n",
       "      <td>JAX</td>\n",
       "      <td>-3.0</td>\n",
       "      <td>41.5</td>\n",
       "    </tr>\n",
       "    <tr>\n",
       "      <th>...</th>\n",
       "      <td>...</td>\n",
       "      <td>...</td>\n",
       "      <td>...</td>\n",
       "      <td>...</td>\n",
       "      <td>...</td>\n",
       "      <td>...</td>\n",
       "      <td>...</td>\n",
       "      <td>...</td>\n",
       "      <td>...</td>\n",
       "    </tr>\n",
       "    <tr>\n",
       "      <th>2555</th>\n",
       "      <td>2019</td>\n",
       "      <td>17</td>\n",
       "      <td>Minnesota Vikings</td>\n",
       "      <td>MIN</td>\n",
       "      <td>Chicago Bears</td>\n",
       "      <td>CHI</td>\n",
       "      <td>CHI</td>\n",
       "      <td>-4.5</td>\n",
       "      <td>36.0</td>\n",
       "    </tr>\n",
       "    <tr>\n",
       "      <th>2556</th>\n",
       "      <td>2019</td>\n",
       "      <td>17</td>\n",
       "      <td>New England Patriots</td>\n",
       "      <td>NWE</td>\n",
       "      <td>Miami Dolphins</td>\n",
       "      <td>MIA</td>\n",
       "      <td>NE</td>\n",
       "      <td>-17.0</td>\n",
       "      <td>45.5</td>\n",
       "    </tr>\n",
       "    <tr>\n",
       "      <th>2557</th>\n",
       "      <td>2019</td>\n",
       "      <td>17</td>\n",
       "      <td>New York Giants</td>\n",
       "      <td>NYG</td>\n",
       "      <td>Philadelphia Eagles</td>\n",
       "      <td>PHI</td>\n",
       "      <td>PHI</td>\n",
       "      <td>-3.5</td>\n",
       "      <td>44.5</td>\n",
       "    </tr>\n",
       "    <tr>\n",
       "      <th>2558</th>\n",
       "      <td>2019</td>\n",
       "      <td>17</td>\n",
       "      <td>Seattle Seahawks</td>\n",
       "      <td>SEA</td>\n",
       "      <td>San Francisco 49ers</td>\n",
       "      <td>SFO</td>\n",
       "      <td>SF</td>\n",
       "      <td>-3.5</td>\n",
       "      <td>47.0</td>\n",
       "    </tr>\n",
       "    <tr>\n",
       "      <th>2559</th>\n",
       "      <td>2019</td>\n",
       "      <td>17</td>\n",
       "      <td>Tampa Bay Buccaneers</td>\n",
       "      <td>TAM</td>\n",
       "      <td>Atlanta Falcons</td>\n",
       "      <td>ATL</td>\n",
       "      <td>TB</td>\n",
       "      <td>-1.0</td>\n",
       "      <td>48.5</td>\n",
       "    </tr>\n",
       "  </tbody>\n",
       "</table>\n",
       "<p>2560 rows × 9 columns</p>\n",
       "</div>"
      ],
      "text/plain": [
       "      year  week              hometeam teamhomeid             awayteam  \\\n",
       "0     2010     1    New Orleans Saints        NOR    Minnesota Vikings   \n",
       "1     2010     1         Buffalo Bills        BUF       Miami Dolphins   \n",
       "2     2010     1         Chicago Bears        CHI        Detroit Lions   \n",
       "3     2010     1        Houston Texans        HOU   Indianapolis Colts   \n",
       "4     2010     1  Jacksonville Jaguars        JAX       Denver Broncos   \n",
       "...    ...   ...                   ...        ...                  ...   \n",
       "2555  2019    17     Minnesota Vikings        MIN        Chicago Bears   \n",
       "2556  2019    17  New England Patriots        NWE       Miami Dolphins   \n",
       "2557  2019    17       New York Giants        NYG  Philadelphia Eagles   \n",
       "2558  2019    17      Seattle Seahawks        SEA  San Francisco 49ers   \n",
       "2559  2019    17  Tampa Bay Buccaneers        TAM      Atlanta Falcons   \n",
       "\n",
       "     teamawayid teamfavid  pointspread  outotal  \n",
       "0           MIN        NO         -5.0     49.5  \n",
       "1           MIA       MIA         -3.0     39.0  \n",
       "2           DET       CHI         -6.5     45.0  \n",
       "3           IND       IND         -1.0     48.0  \n",
       "4           DEN       JAX         -3.0     41.5  \n",
       "...         ...       ...          ...      ...  \n",
       "2555        CHI       CHI         -4.5     36.0  \n",
       "2556        MIA        NE        -17.0     45.5  \n",
       "2557        PHI       PHI         -3.5     44.5  \n",
       "2558        SFO        SF         -3.5     47.0  \n",
       "2559        ATL        TB         -1.0     48.5  \n",
       "\n",
       "[2560 rows x 9 columns]"
      ]
     },
     "execution_count": 18,
     "metadata": {},
     "output_type": "execute_result"
    }
   ],
   "source": [
    "upd_team_id.reset_index(drop=True)"
   ]
  },
  {
   "cell_type": "markdown",
   "id": "e938b58a-c9e0-488d-9f27-c23e81ed1f8d",
   "metadata": {},
   "source": [
    "* Step 9a - Check if the teamfavid is equal to either the teamhomeid or teamawayid."
   ]
  },
  {
   "cell_type": "code",
   "execution_count": 19,
   "id": "b9125c33-ab99-46ae-9cb2-8b9db602505a",
   "metadata": {},
   "outputs": [],
   "source": [
    "team_fav_df = upd_team_id.copy()\n",
    "team_fav_df\n",
    "not_eq = team_fav_df.loc[(team_fav_df['teamfavid'] != team_fav_df['teamhomeid']) & (team_fav_df['teamfavid'] != team_fav_df['teamawayid'])]"
   ]
  },
  {
   "cell_type": "markdown",
   "id": "d617dcf6-da4f-4497-a7fb-8480e35f34cb",
   "metadata": {},
   "source": [
    "* Step 9b - Save rows that are not equal to csv for review."
   ]
  },
  {
   "cell_type": "code",
   "execution_count": 20,
   "id": "32cfc5b7-56a6-494d-9b16-ca0265fcacd1",
   "metadata": {},
   "outputs": [],
   "source": [
    "not_eq.to_csv('./support_data/not_eq.csv')"
   ]
  },
  {
   "cell_type": "markdown",
   "id": "04e644dc-4512-4a41-bfde-b4e16be5bf63",
   "metadata": {},
   "source": [
    "* Step 9c - Get unique values for the rows in question."
   ]
  },
  {
   "cell_type": "code",
   "execution_count": 21,
   "id": "5706e2f3-f3be-42dd-ad2f-d1a783d6a94a",
   "metadata": {},
   "outputs": [],
   "source": [
    "tm_fav_u = np.unique(not_eq[['teamfavid']].values)"
   ]
  },
  {
   "cell_type": "code",
   "execution_count": 22,
   "id": "2002b0b1-8552-4cd3-8745-ffdf749095fe",
   "metadata": {},
   "outputs": [
    {
     "data": {
      "text/plain": [
       "array(['GB', 'KC', 'LAC', 'LAR', 'LVR', 'NE', 'NO', 'PICK', 'SF', 'TB'],\n",
       "      dtype=object)"
      ]
     },
     "execution_count": 22,
     "metadata": {},
     "output_type": "execute_result"
    }
   ],
   "source": [
    "tm_fav_u"
   ]
  },
  {
   "cell_type": "markdown",
   "id": "55e77407-95a2-4201-b95f-424be92f1599",
   "metadata": {},
   "source": [
    "* Step 9d - For GB, KC, LVR, NE, NO, SF, and TB change the teamfavid only."
   ]
  },
  {
   "cell_type": "code",
   "execution_count": 35,
   "id": "47c3eeab-1bd8-41dd-9400-2aed1ecf083a",
   "metadata": {},
   "outputs": [],
   "source": [
    "team_fav_df\n",
    "team_fav_df.loc[team_fav_df['teamfavid'] == 'GB','teamfavid'] = 'GNB'"
   ]
  },
  {
   "cell_type": "markdown",
   "id": "e65df182-47c4-4a61-a16a-c8a6e17c1c59",
   "metadata": {},
   "source": [
    "* Step 9e - For LAC, LAR change the teamfavid based on the teamhomeid and teamawayid columns.\n",
    "\n",
    "**Notes**:\n",
    "* LAC and LAR moved to different locations.\n",
    "* PICK is OK.  There was no favorite in this game."
   ]
  },
  {
   "cell_type": "code",
   "execution_count": 39,
   "id": "ea5c2ad1-8e8a-42b8-9d0d-755e3eef350a",
   "metadata": {},
   "outputs": [],
   "source": [
    "team_fav_df.loc[upd_team_id['teamhomeid'] == 'SDG','teamfavid'] = 'SDG'\n",
    "team_fav_df.loc[upd_team_id['teamawayid'] == 'SDG','teamfavid'] = 'SDG'"
   ]
  },
  {
   "cell_type": "markdown",
   "id": "988ca601-9782-47ab-865a-eafcce348cfa",
   "metadata": {},
   "source": [
    "* Step 10 - Save final csv without pandas index."
   ]
  },
  {
   "cell_type": "code",
   "execution_count": 40,
   "id": "4da8cf6b-a04f-407b-ba6f-c47a462d85d3",
   "metadata": {},
   "outputs": [],
   "source": [
    "team_fav_df.to_csv('spread_info_2010_2019.csv',index=False)"
   ]
  },
  {
   "cell_type": "markdown",
   "id": "c775ecd1-5226-4d52-82cd-79b923b2a65d",
   "metadata": {},
   "source": [
    "* Step 11 - Read in final csv."
   ]
  },
  {
   "cell_type": "code",
   "execution_count": null,
   "id": "95e76830-7119-484a-b065-692b0bac0485",
   "metadata": {},
   "outputs": [],
   "source": [
    "final_sprd_df = pd.read_csv('spread_info_2010_2019.csv')"
   ]
  },
  {
   "cell_type": "code",
   "execution_count": 44,
   "id": "52467b5d-2140-4c9a-994e-53346804b254",
   "metadata": {},
   "outputs": [
    {
     "data": {
      "text/html": [
       "<div>\n",
       "<style scoped>\n",
       "    .dataframe tbody tr th:only-of-type {\n",
       "        vertical-align: middle;\n",
       "    }\n",
       "\n",
       "    .dataframe tbody tr th {\n",
       "        vertical-align: top;\n",
       "    }\n",
       "\n",
       "    .dataframe thead th {\n",
       "        text-align: right;\n",
       "    }\n",
       "</style>\n",
       "<table border=\"1\" class=\"dataframe\">\n",
       "  <thead>\n",
       "    <tr style=\"text-align: right;\">\n",
       "      <th></th>\n",
       "      <th>year</th>\n",
       "      <th>week</th>\n",
       "      <th>hometeam</th>\n",
       "      <th>teamhomeid</th>\n",
       "      <th>awayteam</th>\n",
       "      <th>teamawayid</th>\n",
       "      <th>teamfavid</th>\n",
       "      <th>pointspread</th>\n",
       "      <th>outotal</th>\n",
       "    </tr>\n",
       "  </thead>\n",
       "  <tbody>\n",
       "    <tr>\n",
       "      <th>0</th>\n",
       "      <td>2010</td>\n",
       "      <td>1</td>\n",
       "      <td>New Orleans Saints</td>\n",
       "      <td>NOR</td>\n",
       "      <td>Minnesota Vikings</td>\n",
       "      <td>MIN</td>\n",
       "      <td>NOR</td>\n",
       "      <td>-5.0</td>\n",
       "      <td>49.5</td>\n",
       "    </tr>\n",
       "    <tr>\n",
       "      <th>1</th>\n",
       "      <td>2010</td>\n",
       "      <td>1</td>\n",
       "      <td>Buffalo Bills</td>\n",
       "      <td>BUF</td>\n",
       "      <td>Miami Dolphins</td>\n",
       "      <td>MIA</td>\n",
       "      <td>MIA</td>\n",
       "      <td>-3.0</td>\n",
       "      <td>39.0</td>\n",
       "    </tr>\n",
       "    <tr>\n",
       "      <th>2</th>\n",
       "      <td>2010</td>\n",
       "      <td>1</td>\n",
       "      <td>Chicago Bears</td>\n",
       "      <td>CHI</td>\n",
       "      <td>Detroit Lions</td>\n",
       "      <td>DET</td>\n",
       "      <td>CHI</td>\n",
       "      <td>-6.5</td>\n",
       "      <td>45.0</td>\n",
       "    </tr>\n",
       "    <tr>\n",
       "      <th>3</th>\n",
       "      <td>2010</td>\n",
       "      <td>1</td>\n",
       "      <td>Houston Texans</td>\n",
       "      <td>HOU</td>\n",
       "      <td>Indianapolis Colts</td>\n",
       "      <td>IND</td>\n",
       "      <td>IND</td>\n",
       "      <td>-1.0</td>\n",
       "      <td>48.0</td>\n",
       "    </tr>\n",
       "    <tr>\n",
       "      <th>4</th>\n",
       "      <td>2010</td>\n",
       "      <td>1</td>\n",
       "      <td>Jacksonville Jaguars</td>\n",
       "      <td>JAX</td>\n",
       "      <td>Denver Broncos</td>\n",
       "      <td>DEN</td>\n",
       "      <td>JAX</td>\n",
       "      <td>-3.0</td>\n",
       "      <td>41.5</td>\n",
       "    </tr>\n",
       "  </tbody>\n",
       "</table>\n",
       "</div>"
      ],
      "text/plain": [
       "   year  week              hometeam teamhomeid            awayteam teamawayid  \\\n",
       "0  2010     1    New Orleans Saints        NOR   Minnesota Vikings        MIN   \n",
       "1  2010     1         Buffalo Bills        BUF      Miami Dolphins        MIA   \n",
       "2  2010     1         Chicago Bears        CHI       Detroit Lions        DET   \n",
       "3  2010     1        Houston Texans        HOU  Indianapolis Colts        IND   \n",
       "4  2010     1  Jacksonville Jaguars        JAX      Denver Broncos        DEN   \n",
       "\n",
       "  teamfavid  pointspread  outotal  \n",
       "0       NOR         -5.0     49.5  \n",
       "1       MIA         -3.0     39.0  \n",
       "2       CHI         -6.5     45.0  \n",
       "3       IND         -1.0     48.0  \n",
       "4       JAX         -3.0     41.5  "
      ]
     },
     "execution_count": 44,
     "metadata": {},
     "output_type": "execute_result"
    }
   ],
   "source": [
    "final_sprd_df.head()"
   ]
  },
  {
   "cell_type": "markdown",
   "id": "1f489778-1487-425c-a404-32e9b79ac462",
   "metadata": {},
   "source": [
    "## Load Data\n",
    "### Connect to database"
   ]
  },
  {
   "cell_type": "code",
   "execution_count": 51,
   "id": "2d01836f-61da-48ca-bfc7-61971560b653",
   "metadata": {},
   "outputs": [],
   "source": [
    "import sqlalchemy\n",
    "from sqlalchemy import create_engine\n",
    "from sql_config import protocol, username,password,host,port,database_name\n",
    "\n",
    "rds_connection_string = f'{protocol}://{username}:{password}@{host}:{port}/{database_name}'\n",
    "engine = create_engine(rds_connection_string)"
   ]
  },
  {
   "cell_type": "code",
   "execution_count": 46,
   "id": "48289b57-54d7-4298-b669-8710bf98dda5",
   "metadata": {},
   "outputs": [],
   "source": [
    "final_sprd_df.to_sql(name='gamespreads', con=engine, schema='football_sch', if_exists='append', index=False)"
   ]
  },
  {
   "cell_type": "code",
   "execution_count": 47,
   "id": "154977b5-8e42-4e27-8a7a-fcc21ebf3fcf",
   "metadata": {},
   "outputs": [],
   "source": [
    "ret_df.to_sql(name='gamestats', con=engine, schema='football_sch', if_exists='append', index=False)"
   ]
  },
  {
   "cell_type": "markdown",
   "id": "834d25eb-3faf-4f9b-b2d9-941651347f7b",
   "metadata": {},
   "source": [
    "## Confirm Data has been loaded"
   ]
  },
  {
   "cell_type": "code",
   "execution_count": 52,
   "id": "383e4413-9d92-40f8-9fa7-d051a1ee86fa",
   "metadata": {},
   "outputs": [
    {
     "data": {
      "text/html": [
       "<div>\n",
       "<style scoped>\n",
       "    .dataframe tbody tr th:only-of-type {\n",
       "        vertical-align: middle;\n",
       "    }\n",
       "\n",
       "    .dataframe tbody tr th {\n",
       "        vertical-align: top;\n",
       "    }\n",
       "\n",
       "    .dataframe thead th {\n",
       "        text-align: right;\n",
       "    }\n",
       "</style>\n",
       "<table border=\"1\" class=\"dataframe\">\n",
       "  <thead>\n",
       "    <tr style=\"text-align: right;\">\n",
       "      <th></th>\n",
       "      <th>year</th>\n",
       "      <th>week</th>\n",
       "      <th>hometeam</th>\n",
       "      <th>awayteam</th>\n",
       "      <th>homescore</th>\n",
       "      <th>awayscore</th>\n",
       "      <th>teamfavid</th>\n",
       "      <th>pointspread</th>\n",
       "      <th>outotal</th>\n",
       "    </tr>\n",
       "  </thead>\n",
       "  <tbody>\n",
       "    <tr>\n",
       "      <th>0</th>\n",
       "      <td>2017</td>\n",
       "      <td>1</td>\n",
       "      <td>BUF</td>\n",
       "      <td>NYJ</td>\n",
       "      <td>21</td>\n",
       "      <td>12</td>\n",
       "      <td>BUF</td>\n",
       "      <td>-9.5</td>\n",
       "      <td>40.0</td>\n",
       "    </tr>\n",
       "    <tr>\n",
       "      <th>1</th>\n",
       "      <td>2017</td>\n",
       "      <td>1</td>\n",
       "      <td>CHI</td>\n",
       "      <td>ATL</td>\n",
       "      <td>17</td>\n",
       "      <td>23</td>\n",
       "      <td>ATL</td>\n",
       "      <td>-7.0</td>\n",
       "      <td>49.5</td>\n",
       "    </tr>\n",
       "    <tr>\n",
       "      <th>2</th>\n",
       "      <td>2017</td>\n",
       "      <td>1</td>\n",
       "      <td>CIN</td>\n",
       "      <td>BAL</td>\n",
       "      <td>0</td>\n",
       "      <td>20</td>\n",
       "      <td>CIN</td>\n",
       "      <td>-3.0</td>\n",
       "      <td>42.5</td>\n",
       "    </tr>\n",
       "    <tr>\n",
       "      <th>3</th>\n",
       "      <td>2017</td>\n",
       "      <td>1</td>\n",
       "      <td>CLE</td>\n",
       "      <td>PIT</td>\n",
       "      <td>18</td>\n",
       "      <td>21</td>\n",
       "      <td>PIT</td>\n",
       "      <td>-9.0</td>\n",
       "      <td>47.0</td>\n",
       "    </tr>\n",
       "    <tr>\n",
       "      <th>4</th>\n",
       "      <td>2017</td>\n",
       "      <td>1</td>\n",
       "      <td>DAL</td>\n",
       "      <td>NYG</td>\n",
       "      <td>19</td>\n",
       "      <td>3</td>\n",
       "      <td>DAL</td>\n",
       "      <td>-3.5</td>\n",
       "      <td>47.5</td>\n",
       "    </tr>\n",
       "  </tbody>\n",
       "</table>\n",
       "</div>"
      ],
      "text/plain": [
       "   year  week hometeam awayteam  homescore  awayscore teamfavid  pointspread  \\\n",
       "0  2017     1      BUF      NYJ         21         12       BUF         -9.5   \n",
       "1  2017     1      CHI      ATL         17         23       ATL         -7.0   \n",
       "2  2017     1      CIN      BAL          0         20       CIN         -3.0   \n",
       "3  2017     1      CLE      PIT         18         21       PIT         -9.0   \n",
       "4  2017     1      DAL      NYG         19          3       DAL         -3.5   \n",
       "\n",
       "   outotal  \n",
       "0     40.0  \n",
       "1     49.5  \n",
       "2     42.5  \n",
       "3     47.0  \n",
       "4     47.5  "
      ]
     },
     "execution_count": 52,
     "metadata": {},
     "output_type": "execute_result"
    }
   ],
   "source": [
    "pd.read_sql_query('select * from football_sch.gameresults where year=2017', con=engine).head()"
   ]
  },
  {
   "cell_type": "code",
   "execution_count": 54,
   "id": "d97d824a-3ade-4f26-8080-abe737dc899c",
   "metadata": {},
   "outputs": [
    {
     "data": {
      "text/html": [
       "<div>\n",
       "<style scoped>\n",
       "    .dataframe tbody tr th:only-of-type {\n",
       "        vertical-align: middle;\n",
       "    }\n",
       "\n",
       "    .dataframe tbody tr th {\n",
       "        vertical-align: top;\n",
       "    }\n",
       "\n",
       "    .dataframe thead th {\n",
       "        text-align: right;\n",
       "    }\n",
       "</style>\n",
       "<table border=\"1\" class=\"dataframe\">\n",
       "  <thead>\n",
       "    <tr style=\"text-align: right;\">\n",
       "      <th></th>\n",
       "      <th>year</th>\n",
       "      <th>week</th>\n",
       "      <th>hometeam</th>\n",
       "      <th>awayteam</th>\n",
       "      <th>homescore</th>\n",
       "      <th>awayscore</th>\n",
       "      <th>teamfavid</th>\n",
       "      <th>pointspread</th>\n",
       "      <th>outotal</th>\n",
       "    </tr>\n",
       "  </thead>\n",
       "  <tbody>\n",
       "    <tr>\n",
       "      <th>0</th>\n",
       "      <td>2010</td>\n",
       "      <td>1</td>\n",
       "      <td>PHI</td>\n",
       "      <td>GNB</td>\n",
       "      <td>20</td>\n",
       "      <td>27</td>\n",
       "      <td>GNB</td>\n",
       "      <td>-3.0</td>\n",
       "      <td>48.0</td>\n",
       "    </tr>\n",
       "    <tr>\n",
       "      <th>1</th>\n",
       "      <td>2010</td>\n",
       "      <td>2</td>\n",
       "      <td>DET</td>\n",
       "      <td>PHI</td>\n",
       "      <td>32</td>\n",
       "      <td>35</td>\n",
       "      <td>PHI</td>\n",
       "      <td>-6.5</td>\n",
       "      <td>41.0</td>\n",
       "    </tr>\n",
       "    <tr>\n",
       "      <th>2</th>\n",
       "      <td>2010</td>\n",
       "      <td>3</td>\n",
       "      <td>JAX</td>\n",
       "      <td>PHI</td>\n",
       "      <td>3</td>\n",
       "      <td>28</td>\n",
       "      <td>PHI</td>\n",
       "      <td>-3.0</td>\n",
       "      <td>45.0</td>\n",
       "    </tr>\n",
       "    <tr>\n",
       "      <th>3</th>\n",
       "      <td>2010</td>\n",
       "      <td>4</td>\n",
       "      <td>PHI</td>\n",
       "      <td>WAS</td>\n",
       "      <td>12</td>\n",
       "      <td>17</td>\n",
       "      <td>PHI</td>\n",
       "      <td>-5.0</td>\n",
       "      <td>43.5</td>\n",
       "    </tr>\n",
       "    <tr>\n",
       "      <th>4</th>\n",
       "      <td>2010</td>\n",
       "      <td>5</td>\n",
       "      <td>SFO</td>\n",
       "      <td>PHI</td>\n",
       "      <td>24</td>\n",
       "      <td>27</td>\n",
       "      <td>SFO</td>\n",
       "      <td>-3.0</td>\n",
       "      <td>38.5</td>\n",
       "    </tr>\n",
       "  </tbody>\n",
       "</table>\n",
       "</div>"
      ],
      "text/plain": [
       "   year  week hometeam awayteam  homescore  awayscore teamfavid  pointspread  \\\n",
       "0  2010     1      PHI      GNB         20         27       GNB         -3.0   \n",
       "1  2010     2      DET      PHI         32         35       PHI         -6.5   \n",
       "2  2010     3      JAX      PHI          3         28       PHI         -3.0   \n",
       "3  2010     4      PHI      WAS         12         17       PHI         -5.0   \n",
       "4  2010     5      SFO      PHI         24         27       SFO         -3.0   \n",
       "\n",
       "   outotal  \n",
       "0     48.0  \n",
       "1     41.0  \n",
       "2     45.0  \n",
       "3     43.5  \n",
       "4     38.5  "
      ]
     },
     "execution_count": 54,
     "metadata": {},
     "output_type": "execute_result"
    }
   ],
   "source": [
    "pd.read_sql_query(\"select * from football_sch.gameresults where hometeam='PHI' or awayteam='PHI'\", con=engine).head()"
   ]
  },
  {
   "cell_type": "code",
   "execution_count": 50,
   "id": "0f65a7ca-4c3e-4ed4-ba60-9e54ad26f958",
   "metadata": {},
   "outputs": [],
   "source": [
    "engine.dispose()"
   ]
  },
  {
   "cell_type": "code",
   "execution_count": null,
   "id": "f357a399-bb12-4b12-82ef-101cdd996c19",
   "metadata": {},
   "outputs": [],
   "source": []
  }
 ],
 "metadata": {
  "kernelspec": {
   "display_name": "PythonData",
   "language": "python",
   "name": "pythondata"
  },
  "language_info": {
   "codemirror_mode": {
    "name": "ipython",
    "version": 3
   },
   "file_extension": ".py",
   "mimetype": "text/x-python",
   "name": "python",
   "nbconvert_exporter": "python",
   "pygments_lexer": "ipython3",
   "version": "3.7.7"
  }
 },
 "nbformat": 4,
 "nbformat_minor": 5
}
